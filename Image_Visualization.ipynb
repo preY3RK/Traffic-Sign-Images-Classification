{
  "nbformat": 4,
  "nbformat_minor": 0,
  "metadata": {
    "colab": {
      "provenance": []
    },
    "kernelspec": {
      "name": "python3",
      "display_name": "Python 3"
    },
    "language_info": {
      "name": "python"
    }
  },
  "cells": [
    {
      "cell_type": "code",
      "execution_count": null,
      "metadata": {
        "id": "ZfLgJyaMnrN7"
      },
      "outputs": [],
      "source": [
        "from google.colab import drive\n",
        "import pandas as pd\n",
        "import os\n",
        "import h5py\n",
        "drive.mount('/content/drive')\n",
        "file_path=\"/content/drive/MyDrive/dataset_ts_light_version.hdf5\"\n"
      ]
    },
    {
      "cell_type": "code",
      "source": [
        "with h5py.File(file_path, 'r') as f:\n",
        "  for key in f.keys():\n",
        "    print(f\"{key}: shape={f[key].shape}\")\n",
        "\n",
        "  X_train= f['x_train'][:]\n",
        "  y_train= f['y_train'][:]\n",
        "\n",
        "  X_val= f['x_validation'][:]\n",
        "  y_val= f['y_validation'][:]\n",
        "\n",
        "  X_test= f['x_test'][:]\n",
        "  y_test= f['y_test'][:]\n",
        "\n"
      ],
      "metadata": {
        "id": "vFkW7zUKnzh6"
      },
      "execution_count": null,
      "outputs": []
    },
    {
      "cell_type": "code",
      "source": [
        "import matplotlib.pyplot as plt\n",
        "import numpy as np\n",
        "\n",
        "\n",
        "num_images_to_display = 25\n",
        "\n",
        "\n",
        "grid_size = int(np.ceil(np.sqrt(num_images_to_display)))\n",
        "\n",
        "selected_images = X_train[:num_images_to_display]\n",
        "\n",
        "fig, axes = plt.subplots(grid_size, grid_size, figsize=(10, 10))\n",
        "\n",
        "axes = axes.flatten()\n",
        "\n",
        "for i, img in enumerate(selected_images):\n",
        "   axes[i].imshow(img.astype(np.uint8))\n",
        "   axes[i].axis('off')\n",
        "\n",
        "\n",
        "for j in range(i + 1, len(axes)):\n",
        "   axes[j].axis('off')\n",
        "\n",
        "plt.tight_layout()\n",
        "plt.show()"
      ],
      "metadata": {
        "id": "QFYizxYJn1sz"
      },
      "execution_count": null,
      "outputs": []
    }
  ]
}