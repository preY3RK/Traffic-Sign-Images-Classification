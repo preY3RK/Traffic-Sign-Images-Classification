{
  "nbformat": 4,
  "nbformat_minor": 0,
  "metadata": {
    "colab": {
      "provenance": []
    },
    "kernelspec": {
      "name": "python3",
      "display_name": "Python 3"
    },
    "language_info": {
      "name": "python"
    }
  },
  "cells": [
    {
      "cell_type": "code",
      "execution_count": null,
      "metadata": {
        "colab": {
          "base_uri": "https://localhost:8080/"
        },
        "id": "4bg9FInuuBps",
        "outputId": "3b5efcc7-4bb2-4a4e-ca4a-5b48ba96e301"
      },
      "outputs": [
        {
          "output_type": "stream",
          "name": "stdout",
          "text": [
            "Drive already mounted at /content/drive; to attempt to forcibly remount, call drive.mount(\"/content/drive\", force_remount=True).\n"
          ]
        }
      ],
      "source": [
        "from google.colab import drive\n",
        "import pandas as pd\n",
        "import numpy as np\n",
        "import matplotlib.pyplot as plt\n",
        "%matplotlib inline\n",
        "import os\n",
        "import h5py\n",
        "drive.mount('/content/drive')\n",
        "file_path=\"/content/drive/MyDrive/dataset_ts_light_version.hdf5\"\n"
      ]
    },
    {
      "cell_type": "markdown",
      "source": [
        "### Preprocessing"
      ],
      "metadata": {
        "id": "TeX54cgm3Lc5"
      }
    },
    {
      "cell_type": "code",
      "source": [
        "with h5py.File(file_path, 'r') as f:\n",
        "  for key in f.keys():\n",
        "    print(f\"{key}: shape={f[key].shape}\")\n",
        "\n",
        "  X_train= f['x_train'][:]\n",
        "  y_train= f['y_train'][:]\n",
        "\n",
        "  X_val= f['x_validation'][:]\n",
        "  y_val= f['y_validation'][:]\n",
        "\n",
        "  X_test= f['x_test'][:]\n",
        "  y_test= f['y_test'][:]"
      ],
      "metadata": {
        "id": "8_nU3lKvuh2B",
        "colab": {
          "base_uri": "https://localhost:8080/"
        },
        "outputId": "f2164d2e-9e6f-4d71-cbde-8a2e7845adf7"
      },
      "execution_count": null,
      "outputs": [
        {
          "output_type": "stream",
          "name": "stdout",
          "text": [
            "x_test: shape=(7766, 48, 48, 3)\n",
            "x_train: shape=(90601, 48, 48, 3)\n",
            "x_validation: shape=(31063, 48, 48, 3)\n",
            "y_test: shape=(7766,)\n",
            "y_train: shape=(90601,)\n",
            "y_validation: shape=(31063,)\n"
          ]
        }
      ]
    },
    {
      "cell_type": "code",
      "source": [
        "X = X_train.reshape(X_train.shape[0], -1)\n",
        "means = X.mean(axis=1, keepdims=True)\n",
        "stds = X.std(axis=1, keepdims=True) + 1e-8\n",
        "X_standardized = (X-means)/stds\n",
        "X_standardized[:5]"
      ],
      "metadata": {
        "id": "c7U8U7JcwcEj",
        "colab": {
          "base_uri": "https://localhost:8080/"
        },
        "outputId": "526282bb-55a9-4f78-9e86-02a06a16f01c"
      },
      "execution_count": null,
      "outputs": [
        {
          "output_type": "execute_result",
          "data": {
            "text/plain": [
              "array([[-0.85920745, -0.6990665 , -0.37878463, ..., -0.96111536,\n",
              "        -0.77185786, -0.4806925 ],\n",
              "       [-1.6044168 , -1.6044168 , -1.6044168 , ..., -0.23845483,\n",
              "        -0.4854905 , -0.67440015],\n",
              "       [ 0.00374765, -0.23483689, -0.06441937, ...,  0.7535848 ,\n",
              "         0.12303992,  0.08895641],\n",
              "       [-2.1156006 , -2.1156006 , -2.1156006 , ..., -2.1156006 ,\n",
              "        -2.1156006 , -2.1156006 ],\n",
              "       [-2.579281  , -2.579281  , -2.579281  , ..., -2.579281  ,\n",
              "        -2.579281  , -2.579281  ]], dtype=float32)"
            ]
          },
          "metadata": {},
          "execution_count": 5
        }
      ]
    }
  ]
}