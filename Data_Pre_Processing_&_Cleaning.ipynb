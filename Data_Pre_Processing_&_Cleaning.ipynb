{
  "nbformat": 4,
  "nbformat_minor": 0,
  "metadata": {
    "colab": {
      "provenance": []
    },
    "kernelspec": {
      "name": "python3",
      "display_name": "Python 3"
    },
    "language_info": {
      "name": "python"
    }
  },
  "cells": [
    {
      "cell_type": "code",
      "execution_count": 1,
      "metadata": {
        "colab": {
          "base_uri": "https://localhost:8080/"
        },
        "id": "4bg9FInuuBps",
        "outputId": "1bc8bc8e-1218-4fbf-9648-52ca2f6e8b59"
      },
      "outputs": [
        {
          "output_type": "stream",
          "name": "stdout",
          "text": [
            "Drive already mounted at /content/drive; to attempt to forcibly remount, call drive.mount(\"/content/drive\", force_remount=True).\n"
          ]
        }
      ],
      "source": [
        "from google.colab import drive\n",
        "import pandas as pd\n",
        "import numpy as np\n",
        "import matplotlib.pyplot as plt\n",
        "%matplotlib inline\n",
        "import os\n",
        "import h5py\n",
        "import torch\n",
        "import torch.nn as nn\n",
        "import torch.optim as optim\n",
        "from sklearn.preprocessing import OneHotEncoder\n",
        "drive.mount('/content/drive')\n",
        "file_path=\"/content/drive/MyDrive/dataset_ts_light_version.hdf5\"\n"
      ]
    },
    {
      "cell_type": "code",
      "source": [
        "with h5py.File(file_path, 'r') as f:\n",
        "  for key in f.keys():\n",
        "    print(f\"{key}: shape={f[key].shape}\")\n",
        "\n",
        "  X_train= f['x_train'][:]\n",
        "  y_train= f['y_train'][:]\n",
        "\n",
        "  X_val= f['x_validation'][:]\n",
        "  y_val= f['y_validation'][:]\n",
        "\n",
        "  X_test= f['x_test'][:]\n",
        "  y_test= f['y_test'][:]"
      ],
      "metadata": {
        "id": "8_nU3lKvuh2B",
        "colab": {
          "base_uri": "https://localhost:8080/"
        },
        "outputId": "5e976fc5-8d7a-46b1-884f-bd6279042a88"
      },
      "execution_count": 2,
      "outputs": [
        {
          "output_type": "stream",
          "name": "stdout",
          "text": [
            "x_test: shape=(7766, 48, 48, 3)\n",
            "x_train: shape=(90601, 48, 48, 3)\n",
            "x_validation: shape=(31063, 48, 48, 3)\n",
            "y_test: shape=(7766,)\n",
            "y_train: shape=(90601,)\n",
            "y_validation: shape=(31063,)\n"
          ]
        }
      ]
    },
    {
      "cell_type": "markdown",
      "source": [
        "## **Data Cleaning**"
      ],
      "metadata": {
        "id": "pzAnoGDvMYYw"
      }
    },
    {
      "cell_type": "code",
      "source": [
        "#function to check if any null values exist in labels or pixels\n",
        "def is_valid(x,y):\n",
        "  null_label = False\n",
        "  null_img = False\n",
        "  for i, (img, label) in enumerate(zip(x, y)):\n",
        "    if(label < 0 or label > 42):\n",
        "      null_label = True\n",
        "    if(np.isnan(img).any()):\n",
        "      null_img = True\n",
        "    if(null_img and null_label):\n",
        "      return null_img, null_label\n",
        "  return null_img, null_label\n"
      ],
      "metadata": {
        "id": "a2cjnpQ1Mbhi"
      },
      "execution_count": 3,
      "outputs": []
    },
    {
      "cell_type": "code",
      "source": [
        "#checking\n",
        "print(is_valid(X_train, y_train))\n",
        "print(is_valid(X_val, y_val))\n",
        "print(is_valid(X_test, y_test))\n",
        "#data is perfectly clean"
      ],
      "metadata": {
        "colab": {
          "base_uri": "https://localhost:8080/"
        },
        "id": "9_ccALpBMdgD",
        "outputId": "62f9bf2b-2afe-4fba-c1a6-e31dc980396c"
      },
      "execution_count": 4,
      "outputs": [
        {
          "output_type": "stream",
          "name": "stdout",
          "text": [
            "(False, False)\n",
            "(False, False)\n",
            "(False, False)\n"
          ]
        }
      ]
    },
    {
      "cell_type": "markdown",
      "source": [
        "## **Pre-Processing**"
      ],
      "metadata": {
        "id": "JEumyL_1MsRG"
      }
    },
    {
      "cell_type": "code",
      "source": [
        "#standardizing X's\n",
        "X = X_train.reshape(X_train.shape[0], -1)\n",
        "del X_train\n",
        "means = X.mean(axis=1, keepdims=True)\n",
        "stds = X.std(axis=1, keepdims=True) + 1e-8\n",
        "X_standardized = (X-means)/stds\n",
        "X_standardized[:5]\n",
        "del X\n",
        "del means\n",
        "del stds\n",
        "# deleting numpy arrays to save RAM\n",
        "# X_train was too large to do via a function\n",
        "def standardize(X):\n",
        "  means = X.mean(axis=1, keepdims=True)\n",
        "  stds = X.std(axis=1, keepdims=True) + 1e-8 # to avoid division by 0\n",
        "  X_standardized = (X-means)/stds\n",
        "  return X_standardized\n",
        "X_val = standardize(X_val)\n",
        "X_test = standardize(X_test)"
      ],
      "metadata": {
        "id": "NqhBUG8tK74y"
      },
      "execution_count": 5,
      "outputs": []
    },
    {
      "cell_type": "code",
      "source": [
        "#one hot encoding y's\n",
        "encoder = OneHotEncoder(sparse_output = False)\n",
        "\n",
        "y_train_encoded = encoder.fit_transform(y_train.reshape(-1,1))\n",
        "\n",
        "y_val = encoder.fit_transform(y_val.reshape(-1,1))\n",
        "\n",
        "y_test = encoder.fit_transform(y_test.reshape(-1,1))"
      ],
      "metadata": {
        "id": "Vbe-jH6sNNI8"
      },
      "execution_count": 6,
      "outputs": []
    },
    {
      "cell_type": "code",
      "source": [
        "# converting to tensors for the convolutional NN\n",
        "train = torch.from_numpy(X_standardized)\n",
        "del X_standardized\n",
        "target = torch.from_numpy(y_train)\n",
        "del y_train\n",
        "val = torch.from_numpy(X_val)\n",
        "del X_val\n",
        "target_val = torch.from_numpy(y_val)\n",
        "del y_val\n",
        "test = torch.from_numpy(X_test)\n",
        "del X_test\n",
        "target_test = torch.from_numpy(y_test)\n",
        "del y_test"
      ],
      "metadata": {
        "id": "SQFPhN3WHlQ1"
      },
      "execution_count": 7,
      "outputs": []
    }
  ]
}